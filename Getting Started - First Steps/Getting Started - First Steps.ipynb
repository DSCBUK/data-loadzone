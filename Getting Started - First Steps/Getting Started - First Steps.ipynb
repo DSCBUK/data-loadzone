{
 "cells": [
  {
   "cell_type": "markdown",
   "metadata": {},
   "source": [
    "# Welcome"
   ]
  },
  {
   "cell_type": "markdown",
   "metadata": {},
   "source": [
    "**You are here because of your interest in learning about Data Science. This will get you up to speed on how to set up your machine and some tools that will make your dive into data exploration fun.**"
   ]
  },
  {
   "cell_type": "markdown",
   "metadata": {},
   "source": [
    "## Installing Python via Anaconda (It's advisable you get Python 3.x)\n",
    "* [Windows](https://www.anaconda.com/download/#windows) \n",
    "* [Linux](https://www.anaconda.com/download/#linux)\n",
    "* [macOS](https://www.anaconda.com/download/#linux)\n",
    "\n",
    "### [Installation Instructions for each OS](http://docs.anaconda.com/anaconda/install/)"
   ]
  },
  {
   "cell_type": "markdown",
   "metadata": {},
   "source": [
    "## Getting R and R Studio\n",
    "### [This explains everything you've done so far and explains how to Download and Install R and RStudio](https://www.guru99.com/download-install-r-rstudio.html)\n"
   ]
  },
  {
   "cell_type": "markdown",
   "metadata": {},
   "source": [
    "## Using R on Jupyter Notebooks\n",
    "The Jupyter Notebook App is a server-client application that allows editing and running notebook documents via a web browser. The Jupyter Notebook App can be executed on a local desktop requiring no internet access or can be installed on a remote server and accessed through the internet.\n",
    "\n",
    "**Not to worry, Anaconda already Installed Jupyter for you.**\n",
    "By default Jupyter comes installed with only python, to write R scripts on your jupyter notebooks do the following:\n",
    "### Instructions [Add an R Kernel to your Jupyter Notebooks](https://irkernel.github.io/requirements/)\n"
   ]
  },
  {
   "cell_type": "markdown",
   "metadata": {},
   "source": [
    "### Helpful command line shortcuts for using Jupyter\n",
    "* Open your terminal and type __jupyter notebook__ to open Jupyter on your default browser\n",
    "* Open your terminal and type __anaconda-navigator__ to access the Anaconda Navigator"
   ]
  }
 ],
 "metadata": {
  "kernelspec": {
   "display_name": "Python 3",
   "language": "python",
   "name": "python3"
  },
  "language_info": {
   "codemirror_mode": {
    "name": "ipython",
    "version": 3
   },
   "file_extension": ".py",
   "mimetype": "text/x-python",
   "name": "python",
   "nbconvert_exporter": "python",
   "pygments_lexer": "ipython3",
   "version": "3.6.4"
  }
 },
 "nbformat": 4,
 "nbformat_minor": 2
}
